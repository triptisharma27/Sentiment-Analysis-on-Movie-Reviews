{
  "nbformat": 4,
  "nbformat_minor": 0,
  "metadata": {
    "colab": {
      "provenance": []
    },
    "kernelspec": {
      "name": "python3",
      "display_name": "Python 3"
    },
    "language_info": {
      "name": "python"
    }
  },
  "cells": [
    {
      "cell_type": "code",
      "execution_count": null,
      "metadata": {
        "id": "s_fi7MJ0AMj0"
      },
      "outputs": [],
      "source": []
    },
    {
      "cell_type": "markdown",
      "metadata": {
        "id": "8538d930-ae3b-4eb8-bbbb-a9e5467f9005"
      },
      "source": [
        "### Importing Dependencies"
      ]
    },
    {
      "cell_type": "code",
      "execution_count": null,
      "metadata": {
        "id": "37ab2f4b-bebb-4371-94b0-0c4c4a1e27a7"
      },
      "outputs": [],
      "source": [
        "import os\n",
        "import pandas as pd\n",
        "import glob\n",
        "import warnings\n"
      ]
    },
    {
      "cell_type": "code",
      "execution_count": null,
      "metadata": {
        "id": "09c52f19-01e1-4610-9f52-ef795cfcc546"
      },
      "outputs": [],
      "source": [
        "#pip install nltk"
      ]
    },
    {
      "cell_type": "code",
      "execution_count": null,
      "metadata": {
        "id": "39d8bed0-3092-4aea-ada9-e0576f45884f"
      },
      "outputs": [],
      "source": [
        "warnings.filterwarnings('ignore')\n"
      ]
    },
    {
      "cell_type": "code",
      "execution_count": null,
      "metadata": {
        "id": "7561af01-af7f-4078-ae01-f44ac0ef0c28"
      },
      "outputs": [],
      "source": [
        "import re\n",
        "from bs4 import BeautifulSoup"
      ]
    },
    {
      "cell_type": "code",
      "execution_count": null,
      "metadata": {
        "id": "468b3903-4486-4ba9-94e4-37ec4d094b2e"
      },
      "outputs": [],
      "source": [
        "import nltk\n"
      ]
    },
    {
      "cell_type": "code",
      "execution_count": null,
      "metadata": {
        "id": "c9732afc-db2d-4e5d-9517-3fb92fbe7c57"
      },
      "outputs": [],
      "source": [
        "import re\n",
        "from nltk.corpus import stopwords\n",
        "from nltk.tokenize import word_tokenize\n",
        "\n"
      ]
    },
    {
      "cell_type": "code",
      "execution_count": null,
      "metadata": {
        "id": "246b50f4-4096-47a1-b18a-45ccf53e7399"
      },
      "outputs": [],
      "source": [
        "# Download the stopwords from NLTK\n",
        "nltk.download('stopwords')"
      ]
    },
    {
      "cell_type": "code",
      "execution_count": null,
      "metadata": {
        "id": "b952eaf3-fe38-4c21-9807-c093fe4fe4a5"
      },
      "outputs": [],
      "source": [
        "from tensorflow.keras.preprocessing.text import Tokenizer\n",
        "from tensorflow.keras.preprocessing.sequence import pad_sequences\n"
      ]
    },
    {
      "cell_type": "code",
      "execution_count": null,
      "metadata": {
        "id": "dcba6300-19ff-46ba-bffc-0789a9637a46"
      },
      "outputs": [],
      "source": [
        "from tensorflow.keras.models import Sequential\n",
        "from tensorflow.keras.layers import Embedding, LSTM, Dense, GRU\n"
      ]
    },
    {
      "cell_type": "code",
      "execution_count": null,
      "metadata": {
        "id": "a8bfbcb6-740e-4575-94ec-92fd692b524e"
      },
      "outputs": [],
      "source": [
        "from sklearn.model_selection import train_test_split"
      ]
    },
    {
      "cell_type": "code",
      "execution_count": null,
      "metadata": {
        "id": "066df319-b5bd-4183-abfc-8b48f8fb5ab7"
      },
      "outputs": [],
      "source": [
        "import matplotlib.pyplot as plt"
      ]
    },
    {
      "cell_type": "markdown",
      "metadata": {
        "id": "d55aa413-54be-4e99-8141-6e547b7fac93"
      },
      "source": [
        "## Loading Dataset\n"
      ]
    },
    {
      "cell_type": "code",
      "execution_count": null,
      "metadata": {
        "id": "6663d2de-4ba0-4538-99ee-9f570b3cf710"
      },
      "outputs": [],
      "source": [
        "def load_data(data_dir):\n",
        "    reviews = []\n",
        "    labels = []\n",
        "    for label_type in ['pos', 'neg']:\n",
        "        dir_name = os.path.join(data_dir, label_type)\n",
        "        for file in os.listdir(dir_name):\n",
        "            with open(os.path.join(dir_name, file), 'r', encoding='utf-8') as f:\n",
        "                reviews.append(f.read())\n",
        "            labels.append(1 if label_type == 'pos' else 0)\n",
        "    return reviews, labels\n",
        "\n",
        "# Load train and test data\n",
        "train_reviews, train_labels = load_data('D:\\\\Mtech\\\\SEm_1\\\\Predictive_Data_Analysis\\\\Lab_Task_7\\\\aclImdb\\\\train')\n",
        "\n",
        "\n",
        "\n"
      ]
    },
    {
      "cell_type": "code",
      "execution_count": null,
      "metadata": {
        "id": "b3da34b9-f6e0-4bc1-bbdd-4b8b99166b48"
      },
      "outputs": [],
      "source": [
        "test_reviews, test_labels = load_data('D:\\\\Mtech\\\\SEm_1\\\\Predictive_Data_Analysis\\\\Lab_Task_7\\\\aclImdb\\\\test')"
      ]
    },
    {
      "cell_type": "code",
      "execution_count": null,
      "metadata": {
        "id": "a9b8ea7b-2934-40b1-9168-1757cfc06a24"
      },
      "outputs": [],
      "source": [
        "# Convert to DataFrame\n",
        "train_data = pd.DataFrame({'review': train_reviews, 'label': train_labels})\n",
        "test_data = pd.DataFrame({'review': test_reviews, 'label': test_labels})"
      ]
    },
    {
      "cell_type": "code",
      "execution_count": null,
      "metadata": {
        "id": "99506688-0913-4f7b-af89-95d6de2af3dc",
        "outputId": "4c76835f-17db-4686-c3bb-3c5b5c3d9393"
      },
      "outputs": [
        {
          "data": {
            "text/html": [
              "<div>\n",
              "<style scoped>\n",
              "    .dataframe tbody tr th:only-of-type {\n",
              "        vertical-align: middle;\n",
              "    }\n",
              "\n",
              "    .dataframe tbody tr th {\n",
              "        vertical-align: top;\n",
              "    }\n",
              "\n",
              "    .dataframe thead th {\n",
              "        text-align: right;\n",
              "    }\n",
              "</style>\n",
              "<table border=\"1\" class=\"dataframe\">\n",
              "  <thead>\n",
              "    <tr style=\"text-align: right;\">\n",
              "      <th></th>\n",
              "      <th>review</th>\n",
              "      <th>label</th>\n",
              "    </tr>\n",
              "  </thead>\n",
              "  <tbody>\n",
              "    <tr>\n",
              "      <th>24980</th>\n",
              "      <td>It was a Sunday night and I was waiting for th...</td>\n",
              "      <td>0</td>\n",
              "    </tr>\n",
              "    <tr>\n",
              "      <th>24981</th>\n",
              "      <td>Have I ever seen a film more shockingly inept?...</td>\n",
              "      <td>0</td>\n",
              "    </tr>\n",
              "    <tr>\n",
              "      <th>24982</th>\n",
              "      <td>The next time you are at a party and someone a...</td>\n",
              "      <td>0</td>\n",
              "    </tr>\n",
              "    <tr>\n",
              "      <th>24983</th>\n",
              "      <td>Turgid dialogue, feeble characterization - Har...</td>\n",
              "      <td>0</td>\n",
              "    </tr>\n",
              "    <tr>\n",
              "      <th>24984</th>\n",
              "      <td>Cameron Diaz is a woman who is married to a ju...</td>\n",
              "      <td>0</td>\n",
              "    </tr>\n",
              "    <tr>\n",
              "      <th>24985</th>\n",
              "      <td>I had the misfortune to watch this rubbish on ...</td>\n",
              "      <td>0</td>\n",
              "    </tr>\n",
              "    <tr>\n",
              "      <th>24986</th>\n",
              "      <td>It's pretty bad when the generic movie synopsi...</td>\n",
              "      <td>0</td>\n",
              "    </tr>\n",
              "    <tr>\n",
              "      <th>24987</th>\n",
              "      <td>Having watched this movie on the SciFi channel...</td>\n",
              "      <td>0</td>\n",
              "    </tr>\n",
              "    <tr>\n",
              "      <th>24988</th>\n",
              "      <td>First off, I'm not here to dog this movie. I f...</td>\n",
              "      <td>0</td>\n",
              "    </tr>\n",
              "    <tr>\n",
              "      <th>24989</th>\n",
              "      <td>Ah yez, the Sci Fi Channel produces Yeti anoth...</td>\n",
              "      <td>0</td>\n",
              "    </tr>\n",
              "    <tr>\n",
              "      <th>24990</th>\n",
              "      <td>Yeti: Curse of the Snow Demon starts aboard a ...</td>\n",
              "      <td>0</td>\n",
              "    </tr>\n",
              "    <tr>\n",
              "      <th>24991</th>\n",
              "      <td>Hmmm, a sports team is in a plane crash, gets ...</td>\n",
              "      <td>0</td>\n",
              "    </tr>\n",
              "    <tr>\n",
              "      <th>24992</th>\n",
              "      <td>I saw this piece of garbage on AMC last night,...</td>\n",
              "      <td>0</td>\n",
              "    </tr>\n",
              "    <tr>\n",
              "      <th>24993</th>\n",
              "      <td>Although the production and Jerry Jameson's di...</td>\n",
              "      <td>0</td>\n",
              "    </tr>\n",
              "    <tr>\n",
              "      <th>24994</th>\n",
              "      <td>Capt. Gallagher (Lemmon) and flight attendant ...</td>\n",
              "      <td>0</td>\n",
              "    </tr>\n",
              "    <tr>\n",
              "      <th>24995</th>\n",
              "      <td>Towards the end of the movie, I felt it was to...</td>\n",
              "      <td>0</td>\n",
              "    </tr>\n",
              "    <tr>\n",
              "      <th>24996</th>\n",
              "      <td>This is the kind of movie that my enemies cont...</td>\n",
              "      <td>0</td>\n",
              "    </tr>\n",
              "    <tr>\n",
              "      <th>24997</th>\n",
              "      <td>I saw 'Descent' last night at the Stockholm Fi...</td>\n",
              "      <td>0</td>\n",
              "    </tr>\n",
              "    <tr>\n",
              "      <th>24998</th>\n",
              "      <td>Some films that you pick up for a pound turn o...</td>\n",
              "      <td>0</td>\n",
              "    </tr>\n",
              "    <tr>\n",
              "      <th>24999</th>\n",
              "      <td>This is one of the dumbest films, I've ever se...</td>\n",
              "      <td>0</td>\n",
              "    </tr>\n",
              "  </tbody>\n",
              "</table>\n",
              "</div>"
            ],
            "text/plain": [
              "                                                  review  label\n",
              "24980  It was a Sunday night and I was waiting for th...      0\n",
              "24981  Have I ever seen a film more shockingly inept?...      0\n",
              "24982  The next time you are at a party and someone a...      0\n",
              "24983  Turgid dialogue, feeble characterization - Har...      0\n",
              "24984  Cameron Diaz is a woman who is married to a ju...      0\n",
              "24985  I had the misfortune to watch this rubbish on ...      0\n",
              "24986  It's pretty bad when the generic movie synopsi...      0\n",
              "24987  Having watched this movie on the SciFi channel...      0\n",
              "24988  First off, I'm not here to dog this movie. I f...      0\n",
              "24989  Ah yez, the Sci Fi Channel produces Yeti anoth...      0\n",
              "24990  Yeti: Curse of the Snow Demon starts aboard a ...      0\n",
              "24991  Hmmm, a sports team is in a plane crash, gets ...      0\n",
              "24992  I saw this piece of garbage on AMC last night,...      0\n",
              "24993  Although the production and Jerry Jameson's di...      0\n",
              "24994  Capt. Gallagher (Lemmon) and flight attendant ...      0\n",
              "24995  Towards the end of the movie, I felt it was to...      0\n",
              "24996  This is the kind of movie that my enemies cont...      0\n",
              "24997  I saw 'Descent' last night at the Stockholm Fi...      0\n",
              "24998  Some films that you pick up for a pound turn o...      0\n",
              "24999  This is one of the dumbest films, I've ever se...      0"
            ]
          },
          "execution_count": 13,
          "metadata": {},
          "output_type": "execute_result"
        }
      ],
      "source": [
        "train_data.tail(20)"
      ]
    },
    {
      "cell_type": "code",
      "execution_count": null,
      "metadata": {
        "id": "528fb706-0332-4013-a6cf-2ddee3583bef",
        "outputId": "3863d541-a8d8-4aa5-d036-9ffc3a25abf0"
      },
      "outputs": [
        {
          "data": {
            "text/html": [
              "<div>\n",
              "<style scoped>\n",
              "    .dataframe tbody tr th:only-of-type {\n",
              "        vertical-align: middle;\n",
              "    }\n",
              "\n",
              "    .dataframe tbody tr th {\n",
              "        vertical-align: top;\n",
              "    }\n",
              "\n",
              "    .dataframe thead th {\n",
              "        text-align: right;\n",
              "    }\n",
              "</style>\n",
              "<table border=\"1\" class=\"dataframe\">\n",
              "  <thead>\n",
              "    <tr style=\"text-align: right;\">\n",
              "      <th></th>\n",
              "      <th>review</th>\n",
              "      <th>label</th>\n",
              "    </tr>\n",
              "  </thead>\n",
              "  <tbody>\n",
              "    <tr>\n",
              "      <th>24980</th>\n",
              "      <td>Although its plot is taken from the history of...</td>\n",
              "      <td>0</td>\n",
              "    </tr>\n",
              "    <tr>\n",
              "      <th>24981</th>\n",
              "      <td>I found the movie at my local video store and ...</td>\n",
              "      <td>0</td>\n",
              "    </tr>\n",
              "    <tr>\n",
              "      <th>24982</th>\n",
              "      <td>As an ancient movie fan, I had heard much abou...</td>\n",
              "      <td>0</td>\n",
              "    </tr>\n",
              "    <tr>\n",
              "      <th>24983</th>\n",
              "      <td>Incomprehensibly dreadful mishmash of the prob...</td>\n",
              "      <td>0</td>\n",
              "    </tr>\n",
              "    <tr>\n",
              "      <th>24984</th>\n",
              "      <td>I'm currently slogging through Gibbon's 'Fall ...</td>\n",
              "      <td>0</td>\n",
              "    </tr>\n",
              "    <tr>\n",
              "      <th>24985</th>\n",
              "      <td>It's a rare sensation to come across a film so...</td>\n",
              "      <td>0</td>\n",
              "    </tr>\n",
              "    <tr>\n",
              "      <th>24986</th>\n",
              "      <td>Starting with a tearjerking poem and images of...</td>\n",
              "      <td>0</td>\n",
              "    </tr>\n",
              "    <tr>\n",
              "      <th>24987</th>\n",
              "      <td>I saw this film at the tender age of 18 with a...</td>\n",
              "      <td>0</td>\n",
              "    </tr>\n",
              "    <tr>\n",
              "      <th>24988</th>\n",
              "      <td>It's rare to see film that strikes out in ever...</td>\n",
              "      <td>0</td>\n",
              "    </tr>\n",
              "    <tr>\n",
              "      <th>24989</th>\n",
              "      <td>Some describe CALIGULIA as \"the\" most controve...</td>\n",
              "      <td>0</td>\n",
              "    </tr>\n",
              "    <tr>\n",
              "      <th>24990</th>\n",
              "      <td>As I read the script on-line, I thought \"Capot...</td>\n",
              "      <td>0</td>\n",
              "    </tr>\n",
              "    <tr>\n",
              "      <th>24991</th>\n",
              "      <td>In this film, we're invited to observe the des...</td>\n",
              "      <td>0</td>\n",
              "    </tr>\n",
              "    <tr>\n",
              "      <th>24992</th>\n",
              "      <td>many people said this was a great movie with H...</td>\n",
              "      <td>0</td>\n",
              "    </tr>\n",
              "    <tr>\n",
              "      <th>24993</th>\n",
              "      <td>This is one dreary, inert, self-important bore...</td>\n",
              "      <td>0</td>\n",
              "    </tr>\n",
              "    <tr>\n",
              "      <th>24994</th>\n",
              "      <td>Awful, awful, awful times a hundred still does...</td>\n",
              "      <td>0</td>\n",
              "    </tr>\n",
              "    <tr>\n",
              "      <th>24995</th>\n",
              "      <td>I occasionally let my kids watch this garbage ...</td>\n",
              "      <td>0</td>\n",
              "    </tr>\n",
              "    <tr>\n",
              "      <th>24996</th>\n",
              "      <td>When all we have anymore is pretty much realit...</td>\n",
              "      <td>0</td>\n",
              "    </tr>\n",
              "    <tr>\n",
              "      <th>24997</th>\n",
              "      <td>The basic genre is a thriller intercut with an...</td>\n",
              "      <td>0</td>\n",
              "    </tr>\n",
              "    <tr>\n",
              "      <th>24998</th>\n",
              "      <td>Four things intrigued me as to this film - fir...</td>\n",
              "      <td>0</td>\n",
              "    </tr>\n",
              "    <tr>\n",
              "      <th>24999</th>\n",
              "      <td>David Bryce's comments nearby are exceptionall...</td>\n",
              "      <td>0</td>\n",
              "    </tr>\n",
              "  </tbody>\n",
              "</table>\n",
              "</div>"
            ],
            "text/plain": [
              "                                                  review  label\n",
              "24980  Although its plot is taken from the history of...      0\n",
              "24981  I found the movie at my local video store and ...      0\n",
              "24982  As an ancient movie fan, I had heard much abou...      0\n",
              "24983  Incomprehensibly dreadful mishmash of the prob...      0\n",
              "24984  I'm currently slogging through Gibbon's 'Fall ...      0\n",
              "24985  It's a rare sensation to come across a film so...      0\n",
              "24986  Starting with a tearjerking poem and images of...      0\n",
              "24987  I saw this film at the tender age of 18 with a...      0\n",
              "24988  It's rare to see film that strikes out in ever...      0\n",
              "24989  Some describe CALIGULIA as \"the\" most controve...      0\n",
              "24990  As I read the script on-line, I thought \"Capot...      0\n",
              "24991  In this film, we're invited to observe the des...      0\n",
              "24992  many people said this was a great movie with H...      0\n",
              "24993  This is one dreary, inert, self-important bore...      0\n",
              "24994  Awful, awful, awful times a hundred still does...      0\n",
              "24995  I occasionally let my kids watch this garbage ...      0\n",
              "24996  When all we have anymore is pretty much realit...      0\n",
              "24997  The basic genre is a thriller intercut with an...      0\n",
              "24998  Four things intrigued me as to this film - fir...      0\n",
              "24999  David Bryce's comments nearby are exceptionall...      0"
            ]
          },
          "execution_count": 26,
          "metadata": {},
          "output_type": "execute_result"
        }
      ],
      "source": [
        "test_data.tail(20)"
      ]
    },
    {
      "cell_type": "code",
      "execution_count": null,
      "metadata": {
        "id": "2040f86e-77b9-4ce0-a4fd-0562805a2187"
      },
      "outputs": [],
      "source": [
        "data = pd.concat([train_data, test_data])"
      ]
    },
    {
      "cell_type": "code",
      "execution_count": null,
      "metadata": {
        "id": "58c1bf75-2cf2-4a27-9660-4419a3d3c69d"
      },
      "outputs": [],
      "source": [
        "# Initialize the set of English stopwords\n",
        "stop_words = set(stopwords.words('english'))"
      ]
    },
    {
      "cell_type": "code",
      "execution_count": null,
      "metadata": {
        "id": "86386bfd-43b1-48e1-9871-81c977f9f428"
      },
      "outputs": [],
      "source": [
        "def clean_text(text):\n",
        "    # Remove HTML tags\n",
        "    text = BeautifulSoup(text, \"html.parser\").get_text()\n",
        "\n",
        "    # Convert to lowercase\n",
        "    text = text.lower()\n",
        "\n",
        "    # Remove special characters and numbers\n",
        "    text = re.sub(r'[^a-zA-Z\\s]', '', text)\n",
        "\n",
        "    # Remove stopwords\n",
        "    words = text.split()\n",
        "    words = [word for word in words if word not in stop_words]\n",
        "    cleaned_text = ' '.join(words)\n",
        "\n",
        "    return cleaned_text\n"
      ]
    },
    {
      "cell_type": "code",
      "execution_count": null,
      "metadata": {
        "id": "4b9e17bc-b281-4f07-a242-a9244e4c40d2",
        "outputId": "b7dca3ce-f144-444a-b962-380ab3b949d3"
      },
      "outputs": [
        {
          "name": "stdout",
          "output_type": "stream",
          "text": [
            "<class 'pandas.core.frame.DataFrame'>\n",
            "Index: 50000 entries, 0 to 24999\n",
            "Data columns (total 2 columns):\n",
            " #   Column  Non-Null Count  Dtype \n",
            "---  ------  --------------  ----- \n",
            " 0   review  50000 non-null  object\n",
            " 1   label   50000 non-null  int64 \n",
            "dtypes: int64(1), object(1)\n",
            "memory usage: 1.1+ MB\n"
          ]
        }
      ],
      "source": [
        "data.info()"
      ]
    },
    {
      "cell_type": "code",
      "execution_count": null,
      "metadata": {
        "id": "5b2ce7b8-665a-472e-98ea-b9bfaf5e980d",
        "outputId": "35cd42f7-3262-45d0-9341-53fcba7ae905"
      },
      "outputs": [
        {
          "name": "stdout",
          "output_type": "stream",
          "text": [
            "                                              review  \\\n",
            "0  Bromwell High is a cartoon comedy. It ran at t...   \n",
            "1  Homelessness (or Houselessness as George Carli...   \n",
            "2  Brilliant over-acting by Lesley Ann Warren. Be...   \n",
            "3  This is easily the most underrated film inn th...   \n",
            "4  This is not the typical Mel Brooks film. It wa...   \n",
            "\n",
            "                                      cleaned_review  \n",
            "0  bromwell high cartoon comedy ran time programs...  \n",
            "1  homelessness houselessness george carlin state...  \n",
            "2  brilliant overacting lesley ann warren best dr...  \n",
            "3  easily underrated film inn brooks cannon sure ...  \n",
            "4  typical mel brooks film much less slapstick mo...  \n"
          ]
        }
      ],
      "source": [
        "data['cleaned_review'] = data['review'].apply(clean_text)\n",
        "\n",
        "# Display the first few rows to verify\n",
        "print(data[['review', 'cleaned_review']].head())\n"
      ]
    },
    {
      "cell_type": "code",
      "execution_count": null,
      "metadata": {
        "id": "4b9b0cac-baa2-4b58-bbc2-f107a7f4e762"
      },
      "outputs": [],
      "source": []
    },
    {
      "cell_type": "code",
      "execution_count": null,
      "metadata": {
        "id": "b05196d5-d4ec-4fd3-ab4d-2a3da02baca0"
      },
      "outputs": [],
      "source": []
    },
    {
      "cell_type": "code",
      "execution_count": null,
      "metadata": {
        "id": "22ad1982-aef5-4f8f-b928-c936208a544d"
      },
      "outputs": [],
      "source": []
    },
    {
      "cell_type": "code",
      "execution_count": null,
      "metadata": {
        "id": "0a21251b-ec3d-40f9-84f4-64967783aa0b"
      },
      "outputs": [],
      "source": [
        "\n",
        "max_words = 10000\n",
        "max_len = 200\n",
        "\n",
        "tokenizer = Tokenizer(num_words=max_words, oov_token=\"<OOV>\")\n",
        "tokenizer.fit_on_texts(data['cleaned_review'])\n",
        "\n"
      ]
    },
    {
      "cell_type": "code",
      "execution_count": null,
      "metadata": {
        "id": "921058ea-aa4c-4f66-ad04-21df63f0082c"
      },
      "outputs": [],
      "source": [
        "data_sequences = tokenizer.texts_to_sequences(data['cleaned_review'])\n",
        "\n",
        "\n",
        "data_padded = pad_sequences(data_sequences, maxlen=max_len, padding='post', truncating='post')\n",
        "\n"
      ]
    },
    {
      "cell_type": "code",
      "execution_count": null,
      "metadata": {
        "id": "50c1f9b0-dd99-413c-bea8-b1413a2f6dd4"
      },
      "outputs": [],
      "source": [
        "data['tokenized'] = data_sequences\n",
        "data['padded'] = list(data_padded)\n",
        "\n",
        "\n"
      ]
    },
    {
      "cell_type": "code",
      "execution_count": null,
      "metadata": {
        "id": "951e033c-9314-4eb7-9a22-4ec9d509ac01",
        "outputId": "b86667f6-13fc-46ba-a2fc-5dbb6d03ba8f"
      },
      "outputs": [
        {
          "name": "stdout",
          "output_type": "stream",
          "text": [
            "                                      cleaned_review  \\\n",
            "0  bromwell high cartoon comedy ran time programs...   \n",
            "1  homelessness houselessness george carlin state...   \n",
            "2  brilliant overacting lesley ann warren best dr...   \n",
            "3  easily underrated film inn brooks cannon sure ...   \n",
            "4  typical mel brooks film much less slapstick mo...   \n",
            "\n",
            "                                           tokenized  \\\n",
            "0  [1, 213, 930, 116, 1881, 9, 5768, 267, 43, 447...   \n",
            "1  [1, 1, 611, 1, 3259, 1653, 62, 35, 1146, 228, ...   \n",
            "2  [395, 3578, 1, 2098, 4536, 40, 838, 1, 672, 44...   \n",
            "3  [591, 1826, 3, 1, 2436, 4695, 148, 2699, 98, 6...   \n",
            "4  [643, 3182, 2436, 3, 13, 234, 2094, 22, 63, 38...   \n",
            "\n",
            "                                              padded  \n",
            "0  [1, 213, 930, 116, 1881, 9, 5768, 267, 43, 447...  \n",
            "1  [1, 1, 611, 1, 3259, 1653, 62, 35, 1146, 228, ...  \n",
            "2  [395, 3578, 1, 2098, 4536, 40, 838, 1, 672, 44...  \n",
            "3  [591, 1826, 3, 1, 2436, 4695, 148, 2699, 98, 6...  \n",
            "4  [643, 3182, 2436, 3, 13, 234, 2094, 22, 63, 38...  \n"
          ]
        }
      ],
      "source": [
        "print(data[['cleaned_review', 'tokenized', 'padded']].head())"
      ]
    },
    {
      "cell_type": "code",
      "execution_count": null,
      "metadata": {
        "id": "109a327c-c8df-47e8-a063-a8c947affc74",
        "outputId": "fe194796-4449-4bbf-f3bf-3fa7999d5772"
      },
      "outputs": [
        {
          "data": {
            "text/html": [
              "<div>\n",
              "<style scoped>\n",
              "    .dataframe tbody tr th:only-of-type {\n",
              "        vertical-align: middle;\n",
              "    }\n",
              "\n",
              "    .dataframe tbody tr th {\n",
              "        vertical-align: top;\n",
              "    }\n",
              "\n",
              "    .dataframe thead th {\n",
              "        text-align: right;\n",
              "    }\n",
              "</style>\n",
              "<table border=\"1\" class=\"dataframe\">\n",
              "  <thead>\n",
              "    <tr style=\"text-align: right;\">\n",
              "      <th></th>\n",
              "      <th>review</th>\n",
              "      <th>label</th>\n",
              "      <th>cleaned_review</th>\n",
              "      <th>tokenized</th>\n",
              "      <th>padded</th>\n",
              "    </tr>\n",
              "  </thead>\n",
              "  <tbody>\n",
              "    <tr>\n",
              "      <th>0</th>\n",
              "      <td>Bromwell High is a cartoon comedy. It ran at t...</td>\n",
              "      <td>1</td>\n",
              "      <td>bromwell high cartoon comedy ran time programs...</td>\n",
              "      <td>[1, 213, 930, 116, 1881, 9, 5768, 267, 43, 447...</td>\n",
              "      <td>[1, 213, 930, 116, 1881, 9, 5768, 267, 43, 447...</td>\n",
              "    </tr>\n",
              "    <tr>\n",
              "      <th>1</th>\n",
              "      <td>Homelessness (or Houselessness as George Carli...</td>\n",
              "      <td>1</td>\n",
              "      <td>homelessness houselessness george carlin state...</td>\n",
              "      <td>[1, 1, 611, 1, 3259, 1653, 62, 35, 1146, 228, ...</td>\n",
              "      <td>[1, 1, 611, 1, 3259, 1653, 62, 35, 1146, 228, ...</td>\n",
              "    </tr>\n",
              "    <tr>\n",
              "      <th>2</th>\n",
              "      <td>Brilliant over-acting by Lesley Ann Warren. Be...</td>\n",
              "      <td>1</td>\n",
              "      <td>brilliant overacting lesley ann warren best dr...</td>\n",
              "      <td>[395, 3578, 1, 2098, 4536, 40, 838, 1, 672, 44...</td>\n",
              "      <td>[395, 3578, 1, 2098, 4536, 40, 838, 1, 672, 44...</td>\n",
              "    </tr>\n",
              "    <tr>\n",
              "      <th>3</th>\n",
              "      <td>This is easily the most underrated film inn th...</td>\n",
              "      <td>1</td>\n",
              "      <td>easily underrated film inn brooks cannon sure ...</td>\n",
              "      <td>[591, 1826, 3, 1, 2436, 4695, 148, 2699, 98, 6...</td>\n",
              "      <td>[591, 1826, 3, 1, 2436, 4695, 148, 2699, 98, 6...</td>\n",
              "    </tr>\n",
              "    <tr>\n",
              "      <th>4</th>\n",
              "      <td>This is not the typical Mel Brooks film. It wa...</td>\n",
              "      <td>1</td>\n",
              "      <td>typical mel brooks film much less slapstick mo...</td>\n",
              "      <td>[643, 3182, 2436, 3, 13, 234, 2094, 22, 63, 38...</td>\n",
              "      <td>[643, 3182, 2436, 3, 13, 234, 2094, 22, 63, 38...</td>\n",
              "    </tr>\n",
              "  </tbody>\n",
              "</table>\n",
              "</div>"
            ],
            "text/plain": [
              "                                              review  label  \\\n",
              "0  Bromwell High is a cartoon comedy. It ran at t...      1   \n",
              "1  Homelessness (or Houselessness as George Carli...      1   \n",
              "2  Brilliant over-acting by Lesley Ann Warren. Be...      1   \n",
              "3  This is easily the most underrated film inn th...      1   \n",
              "4  This is not the typical Mel Brooks film. It wa...      1   \n",
              "\n",
              "                                      cleaned_review  \\\n",
              "0  bromwell high cartoon comedy ran time programs...   \n",
              "1  homelessness houselessness george carlin state...   \n",
              "2  brilliant overacting lesley ann warren best dr...   \n",
              "3  easily underrated film inn brooks cannon sure ...   \n",
              "4  typical mel brooks film much less slapstick mo...   \n",
              "\n",
              "                                           tokenized  \\\n",
              "0  [1, 213, 930, 116, 1881, 9, 5768, 267, 43, 447...   \n",
              "1  [1, 1, 611, 1, 3259, 1653, 62, 35, 1146, 228, ...   \n",
              "2  [395, 3578, 1, 2098, 4536, 40, 838, 1, 672, 44...   \n",
              "3  [591, 1826, 3, 1, 2436, 4695, 148, 2699, 98, 6...   \n",
              "4  [643, 3182, 2436, 3, 13, 234, 2094, 22, 63, 38...   \n",
              "\n",
              "                                              padded  \n",
              "0  [1, 213, 930, 116, 1881, 9, 5768, 267, 43, 447...  \n",
              "1  [1, 1, 611, 1, 3259, 1653, 62, 35, 1146, 228, ...  \n",
              "2  [395, 3578, 1, 2098, 4536, 40, 838, 1, 672, 44...  \n",
              "3  [591, 1826, 3, 1, 2436, 4695, 148, 2699, 98, 6...  \n",
              "4  [643, 3182, 2436, 3, 13, 234, 2094, 22, 63, 38...  "
            ]
          },
          "execution_count": 53,
          "metadata": {},
          "output_type": "execute_result"
        }
      ],
      "source": [
        "data.head()"
      ]
    },
    {
      "cell_type": "code",
      "execution_count": null,
      "metadata": {
        "id": "1049c019-6819-419f-8cb1-1d0493e6fab8",
        "outputId": "f8bde16e-3b5d-4017-aa14-767d18eb8ef9"
      },
      "outputs": [
        {
          "name": "stdout",
          "output_type": "stream",
          "text": [
            "Training Features Shape: (40000, 200)\n",
            "Testing Features Shape: (10000, 200)\n",
            "Training Labels Shape: (40000,)\n",
            "Testing Labels Shape: (10000,)\n"
          ]
        }
      ],
      "source": [
        "# Features and labels\n",
        "X = data_padded\n",
        "y = data['label'].values\n",
        "\n",
        "# Split the data\n",
        "X_train, X_test, y_train, y_test = train_test_split(X, y, test_size=0.2, random_state=42)\n",
        "\n",
        "# Display the shapes of the datasets\n",
        "print(f\"Training Features Shape: {X_train.shape}\")\n",
        "print(f\"Testing Features Shape: {X_test.shape}\")\n",
        "print(f\"Training Labels Shape: {y_train.shape}\")\n",
        "print(f\"Testing Labels Shape: {y_test.shape}\")"
      ]
    },
    {
      "cell_type": "code",
      "execution_count": null,
      "metadata": {
        "id": "7338c2d4-4148-46c7-ad38-f8a79b88c6c5",
        "outputId": "6720da52-5dfa-45c5-b97c-52952c9a4ecb"
      },
      "outputs": [
        {
          "data": {
            "text/html": [
              "<pre style=\"white-space:pre;overflow-x:auto;line-height:normal;font-family:Menlo,'DejaVu Sans Mono',consolas,'Courier New',monospace\"><span style=\"font-weight: bold\">Model: \"sequential_2\"</span>\n",
              "</pre>\n"
            ],
            "text/plain": [
              "\u001b[1mModel: \"sequential_2\"\u001b[0m\n"
            ]
          },
          "metadata": {},
          "output_type": "display_data"
        },
        {
          "data": {
            "text/html": [
              "<pre style=\"white-space:pre;overflow-x:auto;line-height:normal;font-family:Menlo,'DejaVu Sans Mono',consolas,'Courier New',monospace\">┏━━━━━━━━━━━━━━━━━━━━━━━━━━━━━━━━━━━━━━┳━━━━━━━━━━━━━━━━━━━━━━━━━━━━━┳━━━━━━━━━━━━━━━━━┓\n",
              "┃<span style=\"font-weight: bold\"> Layer (type)                         </span>┃<span style=\"font-weight: bold\"> Output Shape                </span>┃<span style=\"font-weight: bold\">         Param # </span>┃\n",
              "┡━━━━━━━━━━━━━━━━━━━━━━━━━━━━━━━━━━━━━━╇━━━━━━━━━━━━━━━━━━━━━━━━━━━━━╇━━━━━━━━━━━━━━━━━┩\n",
              "│ embedding_2 (<span style=\"color: #0087ff; text-decoration-color: #0087ff\">Embedding</span>)              │ ?                           │     <span style=\"color: #00af00; text-decoration-color: #00af00\">0</span> (unbuilt) │\n",
              "├──────────────────────────────────────┼─────────────────────────────┼─────────────────┤\n",
              "│ lstm_2 (<span style=\"color: #0087ff; text-decoration-color: #0087ff\">LSTM</span>)                        │ ?                           │     <span style=\"color: #00af00; text-decoration-color: #00af00\">0</span> (unbuilt) │\n",
              "├──────────────────────────────────────┼─────────────────────────────┼─────────────────┤\n",
              "│ dense_2 (<span style=\"color: #0087ff; text-decoration-color: #0087ff\">Dense</span>)                      │ ?                           │     <span style=\"color: #00af00; text-decoration-color: #00af00\">0</span> (unbuilt) │\n",
              "└──────────────────────────────────────┴─────────────────────────────┴─────────────────┘\n",
              "</pre>\n"
            ],
            "text/plain": [
              "┏━━━━━━━━━━━━━━━━━━━━━━━━━━━━━━━━━━━━━━┳━━━━━━━━━━━━━━━━━━━━━━━━━━━━━┳━━━━━━━━━━━━━━━━━┓\n",
              "┃\u001b[1m \u001b[0m\u001b[1mLayer (type)                        \u001b[0m\u001b[1m \u001b[0m┃\u001b[1m \u001b[0m\u001b[1mOutput Shape               \u001b[0m\u001b[1m \u001b[0m┃\u001b[1m \u001b[0m\u001b[1m        Param #\u001b[0m\u001b[1m \u001b[0m┃\n",
              "┡━━━━━━━━━━━━━━━━━━━━━━━━━━━━━━━━━━━━━━╇━━━━━━━━━━━━━━━━━━━━━━━━━━━━━╇━━━━━━━━━━━━━━━━━┩\n",
              "│ embedding_2 (\u001b[38;5;33mEmbedding\u001b[0m)              │ ?                           │     \u001b[38;5;34m0\u001b[0m (unbuilt) │\n",
              "├──────────────────────────────────────┼─────────────────────────────┼─────────────────┤\n",
              "│ lstm_2 (\u001b[38;5;33mLSTM\u001b[0m)                        │ ?                           │     \u001b[38;5;34m0\u001b[0m (unbuilt) │\n",
              "├──────────────────────────────────────┼─────────────────────────────┼─────────────────┤\n",
              "│ dense_2 (\u001b[38;5;33mDense\u001b[0m)                      │ ?                           │     \u001b[38;5;34m0\u001b[0m (unbuilt) │\n",
              "└──────────────────────────────────────┴─────────────────────────────┴─────────────────┘\n"
            ]
          },
          "metadata": {},
          "output_type": "display_data"
        },
        {
          "data": {
            "text/html": [
              "<pre style=\"white-space:pre;overflow-x:auto;line-height:normal;font-family:Menlo,'DejaVu Sans Mono',consolas,'Courier New',monospace\"><span style=\"font-weight: bold\"> Total params: </span><span style=\"color: #00af00; text-decoration-color: #00af00\">0</span> (0.00 B)\n",
              "</pre>\n"
            ],
            "text/plain": [
              "\u001b[1m Total params: \u001b[0m\u001b[38;5;34m0\u001b[0m (0.00 B)\n"
            ]
          },
          "metadata": {},
          "output_type": "display_data"
        },
        {
          "data": {
            "text/html": [
              "<pre style=\"white-space:pre;overflow-x:auto;line-height:normal;font-family:Menlo,'DejaVu Sans Mono',consolas,'Courier New',monospace\"><span style=\"font-weight: bold\"> Trainable params: </span><span style=\"color: #00af00; text-decoration-color: #00af00\">0</span> (0.00 B)\n",
              "</pre>\n"
            ],
            "text/plain": [
              "\u001b[1m Trainable params: \u001b[0m\u001b[38;5;34m0\u001b[0m (0.00 B)\n"
            ]
          },
          "metadata": {},
          "output_type": "display_data"
        },
        {
          "data": {
            "text/html": [
              "<pre style=\"white-space:pre;overflow-x:auto;line-height:normal;font-family:Menlo,'DejaVu Sans Mono',consolas,'Courier New',monospace\"><span style=\"font-weight: bold\"> Non-trainable params: </span><span style=\"color: #00af00; text-decoration-color: #00af00\">0</span> (0.00 B)\n",
              "</pre>\n"
            ],
            "text/plain": [
              "\u001b[1m Non-trainable params: \u001b[0m\u001b[38;5;34m0\u001b[0m (0.00 B)\n"
            ]
          },
          "metadata": {},
          "output_type": "display_data"
        }
      ],
      "source": [
        "\n",
        "model = Sequential([\n",
        "    Embedding(input_dim=max_words, output_dim=128, input_length=max_len),\n",
        "    LSTM(128, dropout=0.2, recurrent_dropout=0.2),\n",
        "    Dense(1, activation='sigmoid')\n",
        "])\n",
        "\n",
        "model.compile(optimizer='adam', loss='binary_crossentropy', metrics=['accuracy'])\n",
        "model.summary()\n"
      ]
    },
    {
      "cell_type": "code",
      "execution_count": null,
      "metadata": {
        "id": "bf24cc1b-ea4c-43b8-bc4a-937259ba61fc",
        "outputId": "22e35dba-9b06-429a-dd45-059e625e7b94"
      },
      "outputs": [
        {
          "name": "stdout",
          "output_type": "stream",
          "text": [
            "Epoch 1/10\n",
            "\u001b[1m1000/1000\u001b[0m \u001b[32m━━━━━━━━━━━━━━━━━━━━\u001b[0m\u001b[37m\u001b[0m \u001b[1m97s\u001b[0m 95ms/step - accuracy: 0.5136 - loss: 0.6926 - val_accuracy: 0.6565 - val_loss: 0.6443\n",
            "Epoch 2/10\n",
            "\u001b[1m1000/1000\u001b[0m \u001b[32m━━━━━━━━━━━━━━━━━━━━\u001b[0m\u001b[37m\u001b[0m \u001b[1m95s\u001b[0m 95ms/step - accuracy: 0.6283 - loss: 0.6469 - val_accuracy: 0.5174 - val_loss: 0.6892\n",
            "Epoch 3/10\n",
            "\u001b[1m1000/1000\u001b[0m \u001b[32m━━━━━━━━━━━━━━━━━━━━\u001b[0m\u001b[37m\u001b[0m \u001b[1m92s\u001b[0m 92ms/step - accuracy: 0.6121 - loss: 0.6131 - val_accuracy: 0.8449 - val_loss: 0.3743\n",
            "Epoch 4/10\n",
            "\u001b[1m1000/1000\u001b[0m \u001b[32m━━━━━━━━━━━━━━━━━━━━\u001b[0m\u001b[37m\u001b[0m \u001b[1m91s\u001b[0m 91ms/step - accuracy: 0.8829 - loss: 0.2943 - val_accuracy: 0.8737 - val_loss: 0.3030\n",
            "Epoch 5/10\n",
            "\u001b[1m1000/1000\u001b[0m \u001b[32m━━━━━━━━━━━━━━━━━━━━\u001b[0m\u001b[37m\u001b[0m \u001b[1m91s\u001b[0m 91ms/step - accuracy: 0.9277 - loss: 0.1997 - val_accuracy: 0.8780 - val_loss: 0.3080\n",
            "Epoch 6/10\n",
            "\u001b[1m1000/1000\u001b[0m \u001b[32m━━━━━━━━━━━━━━━━━━━━\u001b[0m\u001b[37m\u001b[0m \u001b[1m91s\u001b[0m 91ms/step - accuracy: 0.9514 - loss: 0.1436 - val_accuracy: 0.8764 - val_loss: 0.3441\n",
            "Epoch 7/10\n",
            "\u001b[1m1000/1000\u001b[0m \u001b[32m━━━━━━━━━━━━━━━━━━━━\u001b[0m\u001b[37m\u001b[0m \u001b[1m91s\u001b[0m 91ms/step - accuracy: 0.9679 - loss: 0.1007 - val_accuracy: 0.8734 - val_loss: 0.3910\n",
            "Epoch 8/10\n",
            "\u001b[1m1000/1000\u001b[0m \u001b[32m━━━━━━━━━━━━━━━━━━━━\u001b[0m\u001b[37m\u001b[0m \u001b[1m92s\u001b[0m 92ms/step - accuracy: 0.9802 - loss: 0.0701 - val_accuracy: 0.8640 - val_loss: 0.4850\n",
            "Epoch 9/10\n",
            "\u001b[1m1000/1000\u001b[0m \u001b[32m━━━━━━━━━━━━━━━━━━━━\u001b[0m\u001b[37m\u001b[0m \u001b[1m92s\u001b[0m 92ms/step - accuracy: 0.9875 - loss: 0.0504 - val_accuracy: 0.8652 - val_loss: 0.4867\n",
            "Epoch 10/10\n",
            "\u001b[1m1000/1000\u001b[0m \u001b[32m━━━━━━━━━━━━━━━━━━━━\u001b[0m\u001b[37m\u001b[0m \u001b[1m92s\u001b[0m 92ms/step - accuracy: 0.9908 - loss: 0.0396 - val_accuracy: 0.8662 - val_loss: 0.5677\n"
          ]
        }
      ],
      "source": [
        "# Define training parameters\n",
        "batch_size = 32  # Batch size for training\n",
        "epochs = 10      # Number of epochs for training\n",
        "\n",
        "# Train the model\n",
        "history = model.fit(\n",
        "    X_train, y_train,\n",
        "    validation_split=0.2,  # Reserve 20% of the training data for validation\n",
        "    batch_size=batch_size,\n",
        "    epochs=epochs,\n",
        "    verbose=1  # Displays progress during training\n",
        ")"
      ]
    },
    {
      "cell_type": "code",
      "execution_count": null,
      "metadata": {
        "id": "68fc5c42-d19a-44c3-9e80-b439d83165b7",
        "outputId": "6c0a2038-d8f6-4687-8bf1-58f75a64b9bf"
      },
      "outputs": [
        {
          "data": {
            "image/png": "[encoded data removed]",
            "text/plain": [
              "<Figure size 640x480 with 1 Axes>"
            ]
          },
          "metadata": {},
          "output_type": "display_data"
        },
        {
          "data": {
            "image/png": "[encoded data removed]",
            "text/plain": [
              "<Figure size 640x480 with 1 Axes>"
            ]
          },
          "metadata": {},
          "output_type": "display_data"
        }
      ],
      "source": [
        "# Plot training and validation loss\n",
        "plt.plot(history.history['loss'], label='Training Loss')\n",
        "plt.plot(history.history['val_loss'], label='Validation Loss')\n",
        "plt.xlabel('Epochs')\n",
        "plt.ylabel('Loss')\n",
        "plt.legend()\n",
        "plt.title('Training and Validation Loss')\n",
        "plt.show()\n",
        "\n",
        "# Plot training and validation accuracy\n",
        "plt.plot(history.history['accuracy'], label='Training Accuracy')\n",
        "plt.plot(history.history['val_accuracy'], label='Validation Accuracy')\n",
        "plt.xlabel('Epochs')\n",
        "plt.ylabel('Accuracy')\n",
        "plt.legend()\n",
        "plt.title('Training and Validation Accuracy')\n",
        "plt.show()"
      ]
    },
    {
      "cell_type": "code",
      "execution_count": null,
      "metadata": {
        "id": "9fa02a0a-15fb-4a03-ab84-f7ddb802d41a",
        "outputId": "e814367c-3b3e-44d8-9def-eccce5ed72e4"
      },
      "outputs": [
        {
          "name": "stdout",
          "output_type": "stream",
          "text": [
            "\u001b[1m313/313\u001b[0m \u001b[32m━━━━━━━━━━━━━━━━━━━━\u001b[0m\u001b[37m\u001b[0m \u001b[1m9s\u001b[0m 27ms/step - accuracy: 0.8707 - loss: 0.5521\n",
            "Test Loss: 0.5716058611869812\n",
            "Test Accuracy: 0.8676999807357788\n"
          ]
        }
      ],
      "source": [
        "# Evaluate the model on the test data\n",
        "test_loss, test_accuracy = model.evaluate(X_test, y_test, verbose=1)\n",
        "\n",
        "print(f\"Test Loss: {test_loss}\")\n",
        "print(f\"Test Accuracy: {test_accuracy}\")"
      ]
    },
    {
      "cell_type": "code",
      "execution_count": null,
      "metadata": {
        "id": "8e61cd63-5edc-4a8c-8ae8-c91e4acbf4bc",
        "outputId": "7263038e-ad38-42a2-b61b-9257c8cbfc98"
      },
      "outputs": [
        {
          "name": "stdout",
          "output_type": "stream",
          "text": [
            "\u001b[1m1/1\u001b[0m \u001b[32m━━━━━━━━━━━━━━━━━━━━\u001b[0m\u001b[37m\u001b[0m \u001b[1m0s\u001b[0m 189ms/step\n",
            "Review: This movie was absolutely fantastic! I loved it.\n",
            "Predicted Sentiment: Positive (Confidence: 0.99)\n",
            "\n",
            "Review: The film was a waste of time. Completely boring.\n",
            "Predicted Sentiment: Negative (Confidence: 0.00)\n",
            "\n",
            "Review: An average movie with decent performances.\n",
            "Predicted Sentiment: Negative (Confidence: 0.05)\n",
            "\n"
          ]
        }
      ],
      "source": [
        "# Example new reviews\n",
        "new_reviews = [\n",
        "    \"This movie was absolutely fantastic! I loved it.\",\n",
        "    \"The film was a waste of time. Completely boring.\",\n",
        "    \"An average movie with decent performances.\"\n",
        "]\n",
        "\n",
        "# Preprocess the new reviews\n",
        "new_sequences = tokenizer.texts_to_sequences(new_reviews)\n",
        "new_padded = pad_sequences(new_sequences, maxlen=100, padding='post', truncating='post')\n",
        "\n",
        "# Predict sentiments\n",
        "predictions = model.predict(new_padded)\n",
        "\n",
        "# Display results\n",
        "for review, pred in zip(new_reviews, predictions):\n",
        "    sentiment = \"Positive\" if pred > 0.5 else \"Negative\"\n",
        "    print(f\"Review: {review}\")\n",
        "    print(f\"Predicted Sentiment: {sentiment} (Confidence: {pred[0]:.2f})\")\n",
        "    print()"
      ]
    },
    {
      "cell_type": "code",
      "execution_count": null,
      "metadata": {
        "id": "957f7367-dd8f-4290-ad3a-02a708f7500c",
        "outputId": "ea2e2f3e-3e12-499f-b27a-9763ca35a618"
      },
      "outputs": [
        {
          "name": "stderr",
          "output_type": "stream",
          "text": [
            "WARNING:absl:You are saving your model as an HDF5 file via `model.save()` or `keras.saving.save_model(model)`. This file format is considered legacy. We recommend using instead the native Keras format, e.g. `model.save('my_model.keras')` or `keras.saving.save_model(model, 'my_model.keras')`. \n"
          ]
        },
        {
          "name": "stdout",
          "output_type": "stream",
          "text": [
            "Model saved as sentiment_analysis_model.h5\n"
          ]
        }
      ],
      "source": [
        "# Save the trained model to disk\n",
        "model.save('D:\\\\Mtech\\\\SEm_1\\\\Predictive_Data_Analysis\\\\Lab_Task_7\\\\sentiment_analysis_model.h5')\n",
        "print(\"Model saved as sentiment_analysis_model.h5\")"
      ]
    },
    {
      "cell_type": "code",
      "execution_count": null,
      "metadata": {
        "id": "e1f2a20e-01dd-4239-9281-99e28f4447cb",
        "outputId": "52d4f31b-f43c-4076-de40-673ebb1c4438"
      },
      "outputs": [
        {
          "name": "stderr",
          "output_type": "stream",
          "text": [
            "WARNING:absl:Compiled the loaded model, but the compiled metrics have yet to be built. `model.compile_metrics` will be empty until you train or evaluate the model.\n"
          ]
        }
      ],
      "source": [
        "\n",
        "from tensorflow.keras.models import load_model\n",
        "loaded_model = load_model('D:\\\\Mtech\\\\SEm_1\\\\Predictive_Data_Analysis\\\\Lab_Task_7\\\\sentiment_analysis_model.h5')\n"
      ]
    },
    {
      "cell_type": "code",
      "execution_count": null,
      "metadata": {
        "id": "a57a9ce5-002f-469a-a9a0-c9248ccc550a",
        "outputId": "921cd81a-a576-470c-83fe-526bb68abd6f"
      },
      "outputs": [
        {
          "name": "stdout",
          "output_type": "stream",
          "text": [
            "\u001b[1m1/1\u001b[0m \u001b[32m━━━━━━━━━━━━━━━━━━━━\u001b[0m\u001b[37m\u001b[0m \u001b[1m0s\u001b[0m 174ms/step\n",
            "Review: The storyline was amazing and very engaging.\n",
            "Predicted Sentiment: Positive (Confidence: 0.67)\n",
            "\n",
            "Review: I didn't like the acting; it was very dull.\n",
            "Predicted Sentiment: Negative (Confidence: 0.01)\n",
            "\n",
            "Review: It was a fun and enjoyable watch for the weekend.\n",
            "Predicted Sentiment: Positive (Confidence: 0.99)\n",
            "\n"
          ]
        }
      ],
      "source": [
        "# Example new reviews\n",
        "new_reviews = [\n",
        "    \"The storyline was amazing and very engaging.\",\n",
        "    \"I didn't like the acting; it was very dull.\",\n",
        "    \"It was a fun and enjoyable watch for the weekend.\"\n",
        "]\n",
        "\n",
        "# Preprocess the new reviews\n",
        "new_sequences = tokenizer.texts_to_sequences(new_reviews)\n",
        "new_padded = pad_sequences(new_sequences, maxlen=100, padding='post', truncating='post')\n",
        "\n",
        "# Predict sentiments using the loaded model\n",
        "predictions = loaded_model.predict(new_padded)\n",
        "\n",
        "# Display results\n",
        "for review, pred in zip(new_reviews, predictions):\n",
        "    sentiment = \"Positive\" if pred > 0.5 else \"Negative\"\n",
        "    print(f\"Review: {review}\")\n",
        "    print(f\"Predicted Sentiment: {sentiment} (Confidence: {pred[0]:.2f})\")\n",
        "    print()"
      ]
    },
    {
      "cell_type": "code",
      "execution_count": null,
      "metadata": {
        "id": "a3b67601-41ea-486f-9ca6-695b10072ef2"
      },
      "outputs": [],
      "source": []
    },
    {
      "cell_type": "code",
      "execution_count": null,
      "metadata": {
        "id": "bf68fd38-358f-4fde-abb8-f0f39f302c10"
      },
      "outputs": [],
      "source": []
    }
  ]
}